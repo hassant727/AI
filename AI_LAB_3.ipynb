{
 "cells": [
  {
   "cell_type": "markdown",
   "id": "d571f04b",
   "metadata": {},
   "source": [
    "# 03 Error Estimation for Linear Regression and 3NN\n",
    " "
   ]
  },
  {
   "cell_type": "code",
   "execution_count": 1,
   "id": "c9e7fc9c",
   "metadata": {},
   "outputs": [],
   "source": [
    "%load_ext autoreload\n",
    "%autoreload 2\n",
    "%matplotlib inline"
   ]
  },
  {
   "cell_type": "code",
   "execution_count": 2,
   "id": "037cd7dd",
   "metadata": {},
   "outputs": [],
   "source": [
    "# import pandas as pd\n",
    "# import numpy as np\n",
    "\n",
    "# from sklearn.compose import ColumnTransformer\n",
    "# from sklearn.pipeline import Pipeline\n",
    "\n",
    "# from sklearn.preprocessing import StandardScaler\n",
    "\n",
    "# from sklearn.linear_model import LinearRegression\n",
    "# from sklearn.neighbors import KNeighborsRegressor\n",
    "\n",
    "# from sklearn.model_selection import cross_val_score\n",
    "\n",
    "import pandas as pd\n",
    "import numpy as np\n",
    "\n",
    "from sklearn.compose import ColumnTransformer\n",
    "from sklearn.pipeline import Pipeline\n",
    "\n",
    "from sklearn.preprocessing import StandardScaler\n",
    "\n",
    "from sklearn.linear_model import LinearRegression\n",
    "from sklearn.neighbors import KNeighborsRegressor\n",
    "\n",
    "from sklearn.model_selection import cross_val_score\n",
    "from sklearn.model_selection import train_test_split\n",
    "from sklearn.model_selection import ShuffleSplit\n",
    "from sklearn.metrics import mean_absolute_error\n"
   ]
  },
  {
   "cell_type": "markdown",
   "id": "a679d2f2",
   "metadata": {},
   "source": [
    "# Introductory Remarks\n",
    "\n",
    "    - We're going to predict the strength of concrete!\n",
    "    - We have a labeled dataset, originally described in\n",
    "    I Cheng Yeh, \"Modeling of strength of high performance concrete using artificial neural networks,\" Cement and Concrete Research, Vol. 28, No. 12, pp. 1797-1808 (1998).\n",
    "    - Nowadays, it is available from the UC Irvine Machine Learning Repository. I have taken a copy and made it available to you as a CSV file called dataset_concrete.csv.\n",
    "    - Use error estimation to compare linear regression and 3NN.\n",
    "\n",
    "\n"
   ]
  },
  {
   "cell_type": "code",
   "execution_count": 3,
   "id": "6221ce17",
   "metadata": {},
   "outputs": [
    {
     "data": {
      "text/html": [
       "<div>\n",
       "<style scoped>\n",
       "    .dataframe tbody tr th:only-of-type {\n",
       "        vertical-align: middle;\n",
       "    }\n",
       "\n",
       "    .dataframe tbody tr th {\n",
       "        vertical-align: top;\n",
       "    }\n",
       "\n",
       "    .dataframe thead th {\n",
       "        text-align: right;\n",
       "    }\n",
       "</style>\n",
       "<table border=\"1\" class=\"dataframe\">\n",
       "  <thead>\n",
       "    <tr style=\"text-align: right;\">\n",
       "      <th></th>\n",
       "      <th>cement</th>\n",
       "      <th>slag</th>\n",
       "      <th>fly_ash</th>\n",
       "      <th>water</th>\n",
       "      <th>superplasticizer</th>\n",
       "      <th>coarse_aggregate</th>\n",
       "      <th>fine_aggregate</th>\n",
       "      <th>age</th>\n",
       "      <th>strength</th>\n",
       "    </tr>\n",
       "  </thead>\n",
       "  <tbody>\n",
       "    <tr>\n",
       "      <th>0</th>\n",
       "      <td>540.0</td>\n",
       "      <td>0.0</td>\n",
       "      <td>0.0</td>\n",
       "      <td>162.0</td>\n",
       "      <td>2.5</td>\n",
       "      <td>1040.0</td>\n",
       "      <td>676.0</td>\n",
       "      <td>28</td>\n",
       "      <td>79.99</td>\n",
       "    </tr>\n",
       "    <tr>\n",
       "      <th>1</th>\n",
       "      <td>540.0</td>\n",
       "      <td>0.0</td>\n",
       "      <td>0.0</td>\n",
       "      <td>162.0</td>\n",
       "      <td>2.5</td>\n",
       "      <td>1055.0</td>\n",
       "      <td>676.0</td>\n",
       "      <td>28</td>\n",
       "      <td>61.89</td>\n",
       "    </tr>\n",
       "    <tr>\n",
       "      <th>2</th>\n",
       "      <td>332.5</td>\n",
       "      <td>142.5</td>\n",
       "      <td>0.0</td>\n",
       "      <td>228.0</td>\n",
       "      <td>0.0</td>\n",
       "      <td>932.0</td>\n",
       "      <td>594.0</td>\n",
       "      <td>270</td>\n",
       "      <td>40.27</td>\n",
       "    </tr>\n",
       "    <tr>\n",
       "      <th>3</th>\n",
       "      <td>332.5</td>\n",
       "      <td>142.5</td>\n",
       "      <td>0.0</td>\n",
       "      <td>228.0</td>\n",
       "      <td>0.0</td>\n",
       "      <td>932.0</td>\n",
       "      <td>594.0</td>\n",
       "      <td>365</td>\n",
       "      <td>41.05</td>\n",
       "    </tr>\n",
       "    <tr>\n",
       "      <th>4</th>\n",
       "      <td>198.6</td>\n",
       "      <td>132.4</td>\n",
       "      <td>0.0</td>\n",
       "      <td>192.0</td>\n",
       "      <td>0.0</td>\n",
       "      <td>978.4</td>\n",
       "      <td>825.5</td>\n",
       "      <td>360</td>\n",
       "      <td>44.30</td>\n",
       "    </tr>\n",
       "    <tr>\n",
       "      <th>...</th>\n",
       "      <td>...</td>\n",
       "      <td>...</td>\n",
       "      <td>...</td>\n",
       "      <td>...</td>\n",
       "      <td>...</td>\n",
       "      <td>...</td>\n",
       "      <td>...</td>\n",
       "      <td>...</td>\n",
       "      <td>...</td>\n",
       "    </tr>\n",
       "    <tr>\n",
       "      <th>1025</th>\n",
       "      <td>276.4</td>\n",
       "      <td>116.0</td>\n",
       "      <td>90.3</td>\n",
       "      <td>179.6</td>\n",
       "      <td>8.9</td>\n",
       "      <td>870.1</td>\n",
       "      <td>768.3</td>\n",
       "      <td>28</td>\n",
       "      <td>44.28</td>\n",
       "    </tr>\n",
       "    <tr>\n",
       "      <th>1026</th>\n",
       "      <td>322.2</td>\n",
       "      <td>0.0</td>\n",
       "      <td>115.6</td>\n",
       "      <td>196.0</td>\n",
       "      <td>10.4</td>\n",
       "      <td>817.9</td>\n",
       "      <td>813.4</td>\n",
       "      <td>28</td>\n",
       "      <td>31.18</td>\n",
       "    </tr>\n",
       "    <tr>\n",
       "      <th>1027</th>\n",
       "      <td>148.5</td>\n",
       "      <td>139.4</td>\n",
       "      <td>108.6</td>\n",
       "      <td>192.7</td>\n",
       "      <td>6.1</td>\n",
       "      <td>892.4</td>\n",
       "      <td>780.0</td>\n",
       "      <td>28</td>\n",
       "      <td>23.70</td>\n",
       "    </tr>\n",
       "    <tr>\n",
       "      <th>1028</th>\n",
       "      <td>159.1</td>\n",
       "      <td>186.7</td>\n",
       "      <td>0.0</td>\n",
       "      <td>175.6</td>\n",
       "      <td>11.3</td>\n",
       "      <td>989.6</td>\n",
       "      <td>788.9</td>\n",
       "      <td>28</td>\n",
       "      <td>32.77</td>\n",
       "    </tr>\n",
       "    <tr>\n",
       "      <th>1029</th>\n",
       "      <td>260.9</td>\n",
       "      <td>100.5</td>\n",
       "      <td>78.3</td>\n",
       "      <td>200.6</td>\n",
       "      <td>8.6</td>\n",
       "      <td>864.5</td>\n",
       "      <td>761.5</td>\n",
       "      <td>28</td>\n",
       "      <td>32.40</td>\n",
       "    </tr>\n",
       "  </tbody>\n",
       "</table>\n",
       "<p>1030 rows × 9 columns</p>\n",
       "</div>"
      ],
      "text/plain": [
       "      cement   slag  fly_ash  water  superplasticizer  coarse_aggregate  \\\n",
       "0      540.0    0.0      0.0  162.0               2.5            1040.0   \n",
       "1      540.0    0.0      0.0  162.0               2.5            1055.0   \n",
       "2      332.5  142.5      0.0  228.0               0.0             932.0   \n",
       "3      332.5  142.5      0.0  228.0               0.0             932.0   \n",
       "4      198.6  132.4      0.0  192.0               0.0             978.4   \n",
       "...      ...    ...      ...    ...               ...               ...   \n",
       "1025   276.4  116.0     90.3  179.6               8.9             870.1   \n",
       "1026   322.2    0.0    115.6  196.0              10.4             817.9   \n",
       "1027   148.5  139.4    108.6  192.7               6.1             892.4   \n",
       "1028   159.1  186.7      0.0  175.6              11.3             989.6   \n",
       "1029   260.9  100.5     78.3  200.6               8.6             864.5   \n",
       "\n",
       "      fine_aggregate  age  strength  \n",
       "0              676.0   28     79.99  \n",
       "1              676.0   28     61.89  \n",
       "2              594.0  270     40.27  \n",
       "3              594.0  365     41.05  \n",
       "4              825.5  360     44.30  \n",
       "...              ...  ...       ...  \n",
       "1025           768.3   28     44.28  \n",
       "1026           813.4   28     31.18  \n",
       "1027           780.0   28     23.70  \n",
       "1028           788.9   28     32.77  \n",
       "1029           761.5   28     32.40  \n",
       "\n",
       "[1030 rows x 9 columns]"
      ]
     },
     "execution_count": 3,
     "metadata": {},
     "output_type": "execute_result"
    }
   ],
   "source": [
    "df = pd.read_csv('datasets/dataset_concrete.csv')\n",
    "df"
   ]
  },
  {
   "cell_type": "code",
   "execution_count": 4,
   "id": "8bbc3c04",
   "metadata": {},
   "outputs": [],
   "source": [
    "df = df.sample(frac=1, random_state=2)\n",
    "df.reset_index(drop=True, inplace=True)"
   ]
  },
  {
   "cell_type": "code",
   "execution_count": 5,
   "id": "942cc0b8",
   "metadata": {},
   "outputs": [],
   "source": [
    "features = [\"cement\", \"slag\", \"fly_ash\", \"water\", \"superplasticizer\", \"coarse_aggregate\", \"fine_aggregate\", \"age\"]\n",
    "X = df[features]\n",
    "y = df[\"strength\"].values"
   ]
  },
  {
   "cell_type": "code",
   "execution_count": 6,
   "id": "842d979a",
   "metadata": {},
   "outputs": [
    {
     "data": {
      "text/plain": [
       "cement              float64\n",
       "slag                float64\n",
       "fly_ash             float64\n",
       "water               float64\n",
       "superplasticizer    float64\n",
       "coarse_aggregate    float64\n",
       "fine_aggregate      float64\n",
       "age                   int64\n",
       "strength            float64\n",
       "dtype: object"
      ]
     },
     "execution_count": 6,
     "metadata": {},
     "output_type": "execute_result"
    }
   ],
   "source": [
    "df.dtypes"
   ]
  },
  {
   "cell_type": "code",
   "execution_count": 7,
   "id": "9258e113",
   "metadata": {},
   "outputs": [],
   "source": [
    "X = df[features]\n",
    "y = df['strength'].values"
   ]
  },
  {
   "cell_type": "markdown",
   "id": "c92caab3",
   "metadata": {},
   "source": [
    "### Predictor"
   ]
  },
  {
   "cell_type": "code",
   "execution_count": 8,
   "id": "c00a2e3c",
   "metadata": {},
   "outputs": [],
   "source": [
    "# create an object that shuffles and splits the data\n",
    "ss = ShuffleSplit(n_splits=1, train_size=0.8, random_state=2)"
   ]
  },
  {
   "cell_type": "code",
   "execution_count": 9,
   "id": "13264295",
   "metadata": {},
   "outputs": [],
   "source": [
    "# create a processor\n",
    "preprocessor = ColumnTransformer([\n",
    "    (\"scaler\", StandardScaler(), features)],\n",
    "    remainder=\"passthrough\")"
   ]
  },
  {
   "cell_type": "code",
   "execution_count": 10,
   "id": "e7b8bf8c",
   "metadata": {},
   "outputs": [
    {
     "data": {
      "text/plain": [
       "8.214343706221815"
      ]
     },
     "execution_count": 10,
     "metadata": {},
     "output_type": "execute_result"
    }
   ],
   "source": [
    "# Create a pipeline that combines the preprocessor with liner regression\n",
    "\n",
    "l_model = Pipeline([\n",
    "    (\"preprocessor\", preprocessor),\n",
    "    (\"predictor\", LinearRegression())\n",
    "])\n",
    "\n",
    "l_model.fit(X, y)\n",
    "\n",
    "mean_absolute_error(y, l_model.predict(X))"
   ]
  },
  {
   "cell_type": "code",
   "execution_count": 11,
   "id": "e991ad61",
   "metadata": {},
   "outputs": [],
   "source": [
    "y_predictions = l_model.predict(X)"
   ]
  },
  {
   "cell_type": "code",
   "execution_count": 12,
   "id": "01ef7f5d",
   "metadata": {},
   "outputs": [
    {
     "data": {
      "text/plain": [
       "8.214343706221815"
      ]
     },
     "execution_count": 12,
     "metadata": {},
     "output_type": "execute_result"
    }
   ],
   "source": [
    "mean_absolute_error(y, l_model.predict(X))"
   ]
  },
  {
   "cell_type": "markdown",
   "id": "ca3e0ee6",
   "metadata": {},
   "source": [
    "### Error Estimation"
   ]
  },
  {
   "cell_type": "code",
   "execution_count": 13,
   "id": "61bfbd64",
   "metadata": {},
   "outputs": [],
   "source": [
    "# choose between holdout and k-fold cv. 1000 examples is smallish, so k fold"
   ]
  },
  {
   "cell_type": "code",
   "execution_count": 14,
   "id": "8405c956",
   "metadata": {},
   "outputs": [
    {
     "data": {
      "text/plain": [
       "-8.291989935333197"
      ]
     },
     "execution_count": 14,
     "metadata": {},
     "output_type": "execute_result"
    }
   ],
   "source": [
    "np.mean(cross_val_score(l_model, X, y, scoring=\"neg_mean_absolute_error\", cv=10))\n",
    "\n",
    "#mean not there when doing holdout"
   ]
  },
  {
   "cell_type": "code",
   "execution_count": null,
   "id": "f6520ebc",
   "metadata": {},
   "outputs": [],
   "source": []
  },
  {
   "cell_type": "markdown",
   "id": "be9979b9",
   "metadata": {},
   "source": [
    "# KNN MODEL"
   ]
  },
  {
   "cell_type": "code",
   "execution_count": 15,
   "id": "7dc653ca",
   "metadata": {},
   "outputs": [],
   "source": [
    "# split off the test test: 20% of the dataset\n",
    "dev_df, test_df = train_test_split(df, train_size=0.8, random_state=2)"
   ]
  },
  {
   "cell_type": "code",
   "execution_count": 16,
   "id": "3e371822",
   "metadata": {},
   "outputs": [],
   "source": [
    "# extract the features but leave as a dataframe\n",
    "dev_X = dev_df[features]\n",
    "test_X = test_df[features]\n",
    "\n",
    "# target values converted to an 1d numpy array\n",
    "dev_y = dev_df[\"strength\"].values\n",
    "test_y = test_df[\"strength\"].values"
   ]
  },
  {
   "cell_type": "code",
   "execution_count": null,
   "id": "5e23571a",
   "metadata": {},
   "outputs": [],
   "source": []
  },
  {
   "cell_type": "code",
   "execution_count": null,
   "id": "4f98942a",
   "metadata": {},
   "outputs": [],
   "source": []
  }
 ],
 "metadata": {
  "kernelspec": {
   "display_name": "Python 3 (ipykernel)",
   "language": "python",
   "name": "python3"
  },
  "language_info": {
   "codemirror_mode": {
    "name": "ipython",
    "version": 3
   },
   "file_extension": ".py",
   "mimetype": "text/x-python",
   "name": "python",
   "nbconvert_exporter": "python",
   "pygments_lexer": "ipython3",
   "version": "3.9.6"
  }
 },
 "nbformat": 4,
 "nbformat_minor": 5
}
