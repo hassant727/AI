{
 "cells": [
  {
   "cell_type": "code",
   "execution_count": 2,
   "id": "bfecddb8",
   "metadata": {},
   "outputs": [],
   "source": [
    "%load_ext autoreload\n",
    "%autoreload 2\n",
    "%matplotlib inline"
   ]
  },
  {
   "cell_type": "markdown",
   "id": "64013f98",
   "metadata": {},
   "source": [
    "The first two lines mean that modules get reloaded before executing anyhting, so if I have my own module and I change it in an editor, then I can run the code worrying about how to reload the changed module; it's done automatically\n",
    "\n",
    "The third line says that when we draw graphs, they will appear in the notebook itself, not in a seperate window."
   ]
  },
  {
   "cell_type": "code",
   "execution_count": 3,
   "id": "a6c87097",
   "metadata": {},
   "outputs": [],
   "source": [
    "import pandas as np\n",
    "import numpy as np\n",
    "import matplotlib.pyplot as plt"
   ]
  },
  {
   "cell_type": "code",
   "execution_count": 4,
   "id": "7ebd8b01",
   "metadata": {},
   "outputs": [],
   "source": [
    "from math import sqrt"
   ]
  },
  {
   "cell_type": "markdown",
   "id": "1089cc22",
   "metadata": {},
   "source": [
    "### Excercise"
   ]
  },
  {
   "cell_type": "code",
   "execution_count": 6,
   "id": "a5ce95f7",
   "metadata": {},
   "outputs": [],
   "source": [
    "# Defining the matrices\n",
    "A = np.array([[1, 2, 0], [3, -1, 4]])\n",
    "B = np.array([[2, -1], [1, 0], [-3, 4]])\n",
    "u = np.array([2, -7, 1])\n",
    "v = np.array([-3, 0, 4])"
   ]
  },
  {
   "cell_type": "markdown",
   "id": "de1aff94",
   "metadata": {},
   "source": [
    "### A. V u + V v"
   ]
  },
  {
   "cell_type": "code",
   "execution_count": 8,
   "id": "4af0823f",
   "metadata": {},
   "outputs": [
    {
     "data": {
      "text/plain": [
       "array([-1, -7,  5])"
      ]
     },
     "execution_count": 8,
     "metadata": {},
     "output_type": "execute_result"
    }
   ],
   "source": [
    "u + v"
   ]
  },
  {
   "cell_type": "markdown",
   "id": "fb2f4a22",
   "metadata": {},
   "source": [
    "### B. -3V u"
   ]
  },
  {
   "cell_type": "code",
   "execution_count": 11,
   "id": "6a4f89d2",
   "metadata": {},
   "outputs": [
    {
     "data": {
      "text/plain": [
       "array([-6, 21, -3])"
      ]
     },
     "execution_count": 11,
     "metadata": {},
     "output_type": "execute_result"
    }
   ],
   "source": [
    "-3 * u"
   ]
  },
  {
   "cell_type": "markdown",
   "id": "6d893c10",
   "metadata": {},
   "source": [
    "### C. V u V v"
   ]
  },
  {
   "cell_type": "code",
   "execution_count": 13,
   "id": "f5bb34c2",
   "metadata": {},
   "outputs": [
    {
     "data": {
      "text/plain": [
       "-2"
      ]
     },
     "execution_count": 13,
     "metadata": {},
     "output_type": "execute_result"
    }
   ],
   "source": [
    "#.dot is the normal multiplication\n",
    "np.dot(u, v)"
   ]
  },
  {
   "cell_type": "markdown",
   "id": "b9a5a15d",
   "metadata": {},
   "source": [
    "### D. V uv u"
   ]
  },
  {
   "cell_type": "code",
   "execution_count": 14,
   "id": "36aaa6f8",
   "metadata": {},
   "outputs": [
    {
     "data": {
      "text/plain": [
       "54"
      ]
     },
     "execution_count": 14,
     "metadata": {},
     "output_type": "execute_result"
    }
   ],
   "source": [
    "u.dot(u)"
   ]
  },
  {
   "cell_type": "markdown",
   "id": "81773edf",
   "metadata": {},
   "source": [
    "### E. sqrt of V uv u"
   ]
  },
  {
   "cell_type": "code",
   "execution_count": 15,
   "id": "18d7f3e0",
   "metadata": {},
   "outputs": [
    {
     "data": {
      "text/plain": [
       "7.3484692283495345"
      ]
     },
     "execution_count": 15,
     "metadata": {},
     "output_type": "execute_result"
    }
   ],
   "source": [
    "np.sqrt(u.dot(u))"
   ]
  },
  {
   "cell_type": "markdown",
   "id": "728e69ed",
   "metadata": {},
   "source": [
    "### F. V u * V v"
   ]
  },
  {
   "cell_type": "code",
   "execution_count": 17,
   "id": "6b293f6b",
   "metadata": {},
   "outputs": [
    {
     "data": {
      "text/plain": [
       "array([-6,  0,  4])"
      ]
     },
     "execution_count": 17,
     "metadata": {},
     "output_type": "execute_result"
    }
   ],
   "source": [
    "u * v"
   ]
  },
  {
   "cell_type": "markdown",
   "id": "aa4cf937",
   "metadata": {},
   "source": [
    "### G. V A + V A"
   ]
  },
  {
   "cell_type": "code",
   "execution_count": 18,
   "id": "b2b88232",
   "metadata": {},
   "outputs": [
    {
     "data": {
      "text/plain": [
       "array([[ 2,  4,  0],\n",
       "       [ 6, -2,  8]])"
      ]
     },
     "execution_count": 18,
     "metadata": {},
     "output_type": "execute_result"
    }
   ],
   "source": [
    "A + A"
   ]
  },
  {
   "cell_type": "markdown",
   "id": "7477d9bc",
   "metadata": {},
   "source": [
    "### H. V A + V u"
   ]
  },
  {
   "cell_type": "code",
   "execution_count": 19,
   "id": "3ef54280",
   "metadata": {},
   "outputs": [
    {
     "data": {
      "text/plain": [
       "array([[ 3, -5,  1],\n",
       "       [ 5, -8,  5]])"
      ]
     },
     "execution_count": 19,
     "metadata": {},
     "output_type": "execute_result"
    }
   ],
   "source": [
    "A + u"
   ]
  },
  {
   "cell_type": "markdown",
   "id": "a63c1609",
   "metadata": {},
   "source": [
    "### I. 10v A"
   ]
  },
  {
   "cell_type": "code",
   "execution_count": 20,
   "id": "d6218398",
   "metadata": {},
   "outputs": [
    {
     "data": {
      "text/plain": [
       "array([[ 10,  20,   0],\n",
       "       [ 30, -10,  40]])"
      ]
     },
     "execution_count": 20,
     "metadata": {},
     "output_type": "execute_result"
    }
   ],
   "source": [
    "10 * A"
   ]
  },
  {
   "cell_type": "markdown",
   "id": "37d5e09b",
   "metadata": {},
   "source": [
    "### J. v Av v"
   ]
  },
  {
   "cell_type": "code",
   "execution_count": 21,
   "id": "5b8d5351",
   "metadata": {},
   "outputs": [
    {
     "data": {
      "text/plain": [
       "array([[-3,  0,  0],\n",
       "       [-9,  0, 16]])"
      ]
     },
     "execution_count": 21,
     "metadata": {},
     "output_type": "execute_result"
    }
   ],
   "source": [
    "A * v"
   ]
  },
  {
   "cell_type": "markdown",
   "id": "2e4ba1f4",
   "metadata": {},
   "source": [
    "### K. v Av B"
   ]
  },
  {
   "cell_type": "code",
   "execution_count": 23,
   "id": "72c3a0e9",
   "metadata": {},
   "outputs": [
    {
     "data": {
      "text/plain": [
       "array([[ 4, -1],\n",
       "       [-7, 13]])"
      ]
     },
     "execution_count": 23,
     "metadata": {},
     "output_type": "execute_result"
    }
   ],
   "source": [
    "A.dot(B)"
   ]
  },
  {
   "cell_type": "markdown",
   "id": "cb0584cc",
   "metadata": {},
   "source": [
    "### L. V A^T"
   ]
  },
  {
   "cell_type": "code",
   "execution_count": 24,
   "id": "91944f6a",
   "metadata": {},
   "outputs": [
    {
     "data": {
      "text/plain": [
       "array([[ 1,  3],\n",
       "       [ 2, -1],\n",
       "       [ 0,  4]])"
      ]
     },
     "execution_count": 24,
     "metadata": {},
     "output_type": "execute_result"
    }
   ],
   "source": [
    "A.transpose()"
   ]
  },
  {
   "cell_type": "markdown",
   "id": "4e8e643d",
   "metadata": {},
   "source": [
    "### M. v Av A^T"
   ]
  },
  {
   "cell_type": "code",
   "execution_count": 25,
   "id": "9bf69211",
   "metadata": {},
   "outputs": [
    {
     "data": {
      "text/plain": [
       "array([[ 5,  1],\n",
       "       [ 1, 26]])"
      ]
     },
     "execution_count": 25,
     "metadata": {},
     "output_type": "execute_result"
    }
   ],
   "source": [
    "A.dot(A.T)"
   ]
  },
  {
   "cell_type": "markdown",
   "id": "10a0072a",
   "metadata": {},
   "source": [
    "### N. v A^Tv A"
   ]
  },
  {
   "cell_type": "code",
   "execution_count": 26,
   "id": "7f33fab5",
   "metadata": {},
   "outputs": [
    {
     "data": {
      "text/plain": [
       "array([[10, -1, 12],\n",
       "       [-1,  5, -4],\n",
       "       [12, -4, 16]])"
      ]
     },
     "execution_count": 26,
     "metadata": {},
     "output_type": "execute_result"
    }
   ],
   "source": [
    "A.T.dot(A)"
   ]
  },
  {
   "cell_type": "markdown",
   "id": "48fb8f5d",
   "metadata": {},
   "source": [
    "### O. The smallest element in v u "
   ]
  },
  {
   "cell_type": "code",
   "execution_count": 27,
   "id": "76ffe5b7",
   "metadata": {},
   "outputs": [
    {
     "data": {
      "text/plain": [
       "-7"
      ]
     },
     "execution_count": 27,
     "metadata": {},
     "output_type": "execute_result"
    }
   ],
   "source": [
    "np.min(u)"
   ]
  },
  {
   "cell_type": "markdown",
   "id": "fec4e4e9",
   "metadata": {},
   "source": [
    "### P. The index of the smallest element in v u"
   ]
  },
  {
   "cell_type": "code",
   "execution_count": 31,
   "id": "295c0c95",
   "metadata": {},
   "outputs": [
    {
     "data": {
      "text/plain": [
       "1"
      ]
     },
     "execution_count": 31,
     "metadata": {},
     "output_type": "execute_result"
    }
   ],
   "source": [
    "np.argmin(u)"
   ]
  },
  {
   "cell_type": "markdown",
   "id": "0f63c436",
   "metadata": {},
   "source": [
    "### Q. The mean of the values in v u"
   ]
  },
  {
   "cell_type": "code",
   "execution_count": 32,
   "id": "8bb27256",
   "metadata": {},
   "outputs": [
    {
     "data": {
      "text/plain": [
       "-1.3333333333333333"
      ]
     },
     "execution_count": 32,
     "metadata": {},
     "output_type": "execute_result"
    }
   ],
   "source": [
    "np.mean(u)"
   ]
  },
  {
   "cell_type": "markdown",
   "id": "766de82e",
   "metadata": {},
   "source": [
    "### 2. Play the cumsum method on 1-dimensional numpy arrays. \n",
    "### Then define a python function that does the same thing for regular python lists\n",
    "### Then compare how long they take to run on an array that contains all the integers from 1 to 1000 inclusive."
   ]
  },
  {
   "cell_type": "code",
   "execution_count": 33,
   "id": "c91af0e5",
   "metadata": {},
   "outputs": [
    {
     "data": {
      "text/plain": [
       "array([ 2, -5, -4])"
      ]
     },
     "execution_count": 33,
     "metadata": {},
     "output_type": "execute_result"
    }
   ],
   "source": [
    "np.cumsum(u)"
   ]
  },
  {
   "cell_type": "code",
   "execution_count": 38,
   "id": "03b1f210",
   "metadata": {},
   "outputs": [],
   "source": [
    "def cumsum(L):\n",
    "    \n",
    "    total = 0\n",
    "    NewList = []\n",
    "    for x in L:\n",
    "        total += x\n",
    "        #NewList = NewList + [total]\n",
    "        #NewList.insert(len(NewList), total)\n",
    "        NewList.append(total)\n",
    "    return NewList"
   ]
  },
  {
   "cell_type": "code",
   "execution_count": 39,
   "id": "f215e36d",
   "metadata": {},
   "outputs": [
    {
     "data": {
      "text/plain": [
       "[1, 3, 6, 10]"
      ]
     },
     "execution_count": 39,
     "metadata": {},
     "output_type": "execute_result"
    }
   ],
   "source": [
    "ll = [1, 2, 3, 4]\n",
    "cumsum(ll)"
   ]
  },
  {
   "cell_type": "code",
   "execution_count": 40,
   "id": "306ac67a",
   "metadata": {},
   "outputs": [
    {
     "name": "stdout",
     "output_type": "stream",
     "text": [
      "7.19 µs ± 38 ns per loop (mean ± std. dev. of 7 runs, 100000 loops each)\n"
     ]
    }
   ],
   "source": [
    "x = list(range(1, 101))\n",
    "\n",
    "%timeit cumsum(x)"
   ]
  },
  {
   "cell_type": "code",
   "execution_count": 42,
   "id": "87eed83e",
   "metadata": {},
   "outputs": [
    {
     "name": "stdout",
     "output_type": "stream",
     "text": [
      "2.04 µs ± 11.4 ns per loop (mean ± std. dev. of 7 runs, 100000 loops each)\n"
     ]
    }
   ],
   "source": [
    "x = np.arange(1, 101)\n",
    "\n",
    "%timeit np.cumsum(x)"
   ]
  },
  {
   "cell_type": "code",
   "execution_count": null,
   "id": "65943273",
   "metadata": {},
   "outputs": [],
   "source": []
  }
 ],
 "metadata": {
  "kernelspec": {
   "display_name": "Python 3 (ipykernel)",
   "language": "python",
   "name": "python3"
  },
  "language_info": {
   "codemirror_mode": {
    "name": "ipython",
    "version": 3
   },
   "file_extension": ".py",
   "mimetype": "text/x-python",
   "name": "python",
   "nbconvert_exporter": "python",
   "pygments_lexer": "ipython3",
   "version": "3.9.6"
  }
 },
 "nbformat": 4,
 "nbformat_minor": 5
}
